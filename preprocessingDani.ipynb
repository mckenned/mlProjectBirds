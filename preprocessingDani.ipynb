{
 "cells": [
  {
   "cell_type": "markdown",
   "metadata": {},
   "source": [
    "## Code Snippets for Data Preprocessing\n",
    "\n"
   ]
  },
  {
   "cell_type": "code",
   "execution_count": 39,
   "metadata": {},
   "outputs": [],
   "source": [
    "# Imports\n",
    "import pandas as pd\n",
    "import geopandas as gpd\n",
    "import matplotlib.pyplot as plt\n",
    "import seaborn as sns\n"
   ]
  },
  {
   "cell_type": "code",
   "execution_count": 3,
   "metadata": {},
   "outputs": [],
   "source": [
    "# Read the raw data\n",
    "dfRaw = pd.read_csv('/Users/daniellemckenney/Programming/erasmusCourses/ML/mlProjectsBirbs/mlProjectBirds/dataset.csv', sep=\"\\t\", on_bad_lines=\"warn\",parse_dates=['eventDate'])"
   ]
  },
  {
   "cell_type": "code",
   "execution_count": 4,
   "metadata": {},
   "outputs": [
    {
     "name": "stdout",
     "output_type": "stream",
     "text": [
      "<class 'pandas.core.frame.DataFrame'>\n",
      "RangeIndex: 753579 entries, 0 to 753578\n",
      "Data columns (total 50 columns):\n",
      " #   Column                            Non-Null Count   Dtype         \n",
      "---  ------                            --------------   -----         \n",
      " 0   gbifID                            753579 non-null  int64         \n",
      " 1   datasetKey                        753579 non-null  object        \n",
      " 2   occurrenceID                      753579 non-null  object        \n",
      " 3   kingdom                           753579 non-null  object        \n",
      " 4   phylum                            753579 non-null  object        \n",
      " 5   class                             753579 non-null  object        \n",
      " 6   order                             753579 non-null  object        \n",
      " 7   family                            753579 non-null  object        \n",
      " 8   genus                             753579 non-null  object        \n",
      " 9   species                           753579 non-null  object        \n",
      " 10  infraspecificEpithet              1000 non-null    object        \n",
      " 11  taxonRank                         753579 non-null  object        \n",
      " 12  scientificName                    753579 non-null  object        \n",
      " 13  verbatimScientificName            753579 non-null  object        \n",
      " 14  verbatimScientificNameAuthorship  0 non-null       float64       \n",
      " 15  countryCode                       753579 non-null  object        \n",
      " 16  locality                          753579 non-null  object        \n",
      " 17  stateProvince                     753579 non-null  object        \n",
      " 18  occurrenceStatus                  753579 non-null  object        \n",
      " 19  individualCount                   0 non-null       float64       \n",
      " 20  publishingOrgKey                  753579 non-null  object        \n",
      " 21  decimalLatitude                   753579 non-null  float64       \n",
      " 22  decimalLongitude                  753579 non-null  float64       \n",
      " 23  coordinateUncertaintyInMeters     0 non-null       float64       \n",
      " 24  coordinatePrecision               0 non-null       float64       \n",
      " 25  elevation                         0 non-null       float64       \n",
      " 26  elevationAccuracy                 0 non-null       float64       \n",
      " 27  depth                             0 non-null       float64       \n",
      " 28  depthAccuracy                     0 non-null       float64       \n",
      " 29  eventDate                         753579 non-null  datetime64[ns]\n",
      " 30  day                               753579 non-null  int64         \n",
      " 31  month                             753579 non-null  int64         \n",
      " 32  year                              753579 non-null  int64         \n",
      " 33  taxonKey                          753579 non-null  int64         \n",
      " 34  speciesKey                        753579 non-null  int64         \n",
      " 35  basisOfRecord                     753579 non-null  object        \n",
      " 36  institutionCode                   753579 non-null  object        \n",
      " 37  collectionCode                    753579 non-null  object        \n",
      " 38  catalogNumber                     753579 non-null  int64         \n",
      " 39  recordNumber                      0 non-null       float64       \n",
      " 40  identifiedBy                      0 non-null       float64       \n",
      " 41  dateIdentified                    0 non-null       float64       \n",
      " 42  license                           753579 non-null  object        \n",
      " 43  rightsHolder                      753579 non-null  object        \n",
      " 44  recordedBy                        0 non-null       float64       \n",
      " 45  typeStatus                        0 non-null       float64       \n",
      " 46  establishmentMeans                753579 non-null  object        \n",
      " 47  lastInterpreted                   753579 non-null  object        \n",
      " 48  mediaType                         0 non-null       float64       \n",
      " 49  issue                             10431 non-null   object        \n",
      "dtypes: datetime64[ns](1), float64(16), int64(7), object(26)\n",
      "memory usage: 287.5+ MB\n",
      "None\n",
      "             gbifID  verbatimScientificNameAuthorship  individualCount  \\\n",
      "count  7.535790e+05                               0.0              0.0   \n",
      "mean   1.675447e+09                               NaN              NaN   \n",
      "min    1.612098e+09                               NaN              NaN   \n",
      "25%    1.613503e+09                               NaN              NaN   \n",
      "50%    1.616473e+09                               NaN              NaN   \n",
      "75%    1.618905e+09                               NaN              NaN   \n",
      "max    2.543726e+09                               NaN              NaN   \n",
      "std    2.264727e+08                               NaN              NaN   \n",
      "\n",
      "       decimalLatitude  decimalLongitude  coordinateUncertaintyInMeters  \\\n",
      "count    753579.000000     753579.000000                            0.0   \n",
      "mean         39.561128         -2.159383                            NaN   \n",
      "min           0.000000        -39.290560                            NaN   \n",
      "25%          37.816670         -4.566670                            NaN   \n",
      "50%          39.850000         -1.650000                            NaN   \n",
      "75%          41.466670          0.033330                            NaN   \n",
      "max          43.783330          4.833330                            NaN   \n",
      "std           2.805265          3.318751                            NaN   \n",
      "\n",
      "       coordinatePrecision  elevation  elevationAccuracy  depth  ...  \\\n",
      "count                  0.0        0.0                0.0    0.0  ...   \n",
      "mean                   NaN        NaN                NaN    NaN  ...   \n",
      "min                    NaN        NaN                NaN    NaN  ...   \n",
      "25%                    NaN        NaN                NaN    NaN  ...   \n",
      "50%                    NaN        NaN                NaN    NaN  ...   \n",
      "75%                    NaN        NaN                NaN    NaN  ...   \n",
      "max                    NaN        NaN                NaN    NaN  ...   \n",
      "std                    NaN        NaN                NaN    NaN  ...   \n",
      "\n",
      "                year      taxonKey    speciesKey  catalogNumber  recordNumber  \\\n",
      "count  753579.000000  7.535790e+05  7.535790e+05   7.535790e+05           0.0   \n",
      "mean     2003.617982  3.089666e+06  3.085307e+06   9.718358e+10           NaN   \n",
      "min      1951.000000  2.475443e+06  2.475443e+06   3.500000e+01           NaN   \n",
      "25%      1998.000000  2.490719e+06  2.490719e+06   2.074422e+06           NaN   \n",
      "50%      2005.000000  2.493091e+06  2.493091e+06   4.497746e+06           NaN   \n",
      "75%      2010.000000  2.493091e+06  2.493091e+06   5.838344e+06           NaN   \n",
      "max      2019.000000  1.127068e+07  7.901064e+06   5.358759e+12           NaN   \n",
      "std         9.014725  1.693127e+06  1.690010e+06   5.625549e+11           NaN   \n",
      "\n",
      "       identifiedBy  dateIdentified  recordedBy  typeStatus  mediaType  \n",
      "count           0.0             0.0         0.0         0.0        0.0  \n",
      "mean            NaN             NaN         NaN         NaN        NaN  \n",
      "min             NaN             NaN         NaN         NaN        NaN  \n",
      "25%             NaN             NaN         NaN         NaN        NaN  \n",
      "50%             NaN             NaN         NaN         NaN        NaN  \n",
      "75%             NaN             NaN         NaN         NaN        NaN  \n",
      "max             NaN             NaN         NaN         NaN        NaN  \n",
      "std             NaN             NaN         NaN         NaN        NaN  \n",
      "\n",
      "[8 rows x 24 columns]\n",
      "(753579, 50)\n",
      "Index(['gbifID', 'datasetKey', 'occurrenceID', 'kingdom', 'phylum', 'class',\n",
      "       'order', 'family', 'genus', 'species', 'infraspecificEpithet',\n",
      "       'taxonRank', 'scientificName', 'verbatimScientificName',\n",
      "       'verbatimScientificNameAuthorship', 'countryCode', 'locality',\n",
      "       'stateProvince', 'occurrenceStatus', 'individualCount',\n",
      "       'publishingOrgKey', 'decimalLatitude', 'decimalLongitude',\n",
      "       'coordinateUncertaintyInMeters', 'coordinatePrecision', 'elevation',\n",
      "       'elevationAccuracy', 'depth', 'depthAccuracy', 'eventDate', 'day',\n",
      "       'month', 'year', 'taxonKey', 'speciesKey', 'basisOfRecord',\n",
      "       'institutionCode', 'collectionCode', 'catalogNumber', 'recordNumber',\n",
      "       'identifiedBy', 'dateIdentified', 'license', 'rightsHolder',\n",
      "       'recordedBy', 'typeStatus', 'establishmentMeans', 'lastInterpreted',\n",
      "       'mediaType', 'issue'],\n",
      "      dtype='object')\n",
      "locality\n",
      "Canal vell                 26260\n",
      "P. NAT. EL HONDO           17311\n",
      "Traibuenas                 13099\n",
      "Manecorro                  10419\n",
      "Parque el alamillo         10296\n",
      "                           ...  \n",
      "Hornos                         1\n",
      "Carcastillo                    1\n",
      "Palacios del sil               1\n",
      "Hospitalet de llobregat        1\n",
      "Urbanizacion los pinos         1\n",
      "Name: count, Length: 7366, dtype: int64\n",
      "countryCode\n",
      "ES    753579\n",
      "Name: count, dtype: int64\n"
     ]
    },
    {
     "ename": "NameError",
     "evalue": "name 'df' is not defined",
     "output_type": "error",
     "traceback": [
      "\u001b[0;31m---------------------------------------------------------------------------\u001b[0m",
      "\u001b[0;31mNameError\u001b[0m                                 Traceback (most recent call last)",
      "Cell \u001b[0;32mIn[4], line 11\u001b[0m\n\u001b[1;32m      9\u001b[0m \u001b[38;5;28mprint\u001b[39m(dfRaw[\u001b[38;5;124m'\u001b[39m\u001b[38;5;124mcountryCode\u001b[39m\u001b[38;5;124m'\u001b[39m]\u001b[38;5;241m.\u001b[39mvalue_counts())\n\u001b[1;32m     10\u001b[0m \u001b[38;5;66;03m# No data is missing in the relevant columns:\u001b[39;00m\n\u001b[0;32m---> 11\u001b[0m \u001b[38;5;28mprint\u001b[39m(\u001b[43mdf\u001b[49m\u001b[38;5;241m.\u001b[39misnull()\u001b[38;5;241m.\u001b[39msum())\n",
      "\u001b[0;31mNameError\u001b[0m: name 'df' is not defined"
     ]
    }
   ],
   "source": [
    "# Print some useful stats: \n",
    "print(dfRaw.info())\n",
    "print(dfRaw.describe())\n",
    "print(dfRaw.shape)\n",
    "print(dfRaw.columns)\n",
    "# Number of unique locations\n",
    "print(dfRaw['locality'].value_counts())\n",
    "# All entries should be within Spain\n",
    "print(dfRaw['countryCode'].value_counts())\n",
    "# No data is missing in the relevant columns:\n",
    "print(dfRaw.isnull().sum())\n"
   ]
  },
  {
   "cell_type": "code",
   "execution_count": 5,
   "metadata": {},
   "outputs": [],
   "source": [
    "# Function Definitions\n",
    "def cleanRawData(rawData, relevantColumns):\n",
    "    # returns a dataframe with only the relevent columns and with invalid location entries removed\n",
    "    df = rawData.filter(items=relevantColumns)\n",
    "    df = df[(df['decimalLatitude'] != 0) & (df['decimalLongitude'] != 0)]\n",
    "    return df\n",
    "\n",
    "def fillInCounts0(data, dateCombination):\n",
    "    # Fill in count=0 in the grouped summary\n",
    "    # Get all unique combinations of the date combination\n",
    "    existing_combinations = data[dateCombination].drop_duplicates()\n",
    "\n",
    "    # Create a DataFrame with all unique species\n",
    "    all_species_combinations = pd.DataFrame({'species': data['species'].unique()})\n",
    "\n",
    "    # Cross join (cartesian product) to get all combinations of 'species', 'eventDate', and 'locality'\n",
    "    all_combinations = pd.merge(existing_combinations.assign(key=1), all_species_combinations.assign(key=1), on='key').drop('key', axis=1)\n",
    "\n",
    "    # Merge with the original DataFrame to get counts\n",
    "    on = dateCombination.append('species')\n",
    "    result_df = pd.merge(all_combinations, data, on=on, how='left').fillna(0)\n",
    "    return result_df"
   ]
  },
  {
   "cell_type": "code",
   "execution_count": 114,
   "metadata": {},
   "outputs": [],
   "source": [
    "relevantColumns = ['species','locality','decimalLatitude', 'decimalLongitude', 'eventDate']\n",
    "\n",
    "df = cleanRawData(dfRaw, relevantColumns)\n",
    "\n",
    "# Group by 'species', 'eventDate', and 'locality' and count the rows in each group\n",
    "grouped_eventDate_df = df.groupby(['species', 'eventDate', 'locality']).size().reset_index(name='count')\n",
    "# Fill in count=0 on days where a locality was visited but no entry was made for that species\n",
    "grouped_eventDate_df = fillInCounts0(grouped_eventDate_df, ['eventDate', 'locality'])\n",
    "# print(grouped_eventDate_df[10:])\n",
    "\n",
    "grouped_eventDate_df['weekOfYear'] = grouped_eventDate_df['eventDate'].dt.isocalendar().week\n",
    "grouped_eventDate_df['month'] = grouped_eventDate_df['eventDate'].dt.month\n",
    "grouped_eventDate_df['quarter'] = grouped_eventDate_df['eventDate'].dt.to_period('Q')\n",
    "grouped_eventDate_df['year'] = grouped_eventDate_df['eventDate'].dt.year\n",
    "\n",
    "grouped_weekOfYear_df = grouped_eventDate_df.groupby(['species', 'weekOfYear', 'year', 'locality']).sum('count').reset_index()\n",
    "\n",
    "grouped_month_df = grouped_eventDate_df.groupby(['species', 'month', 'year', 'locality']).sum('count').reset_index()\n",
    "\n",
    "grouped_quarter_df = grouped_eventDate_df.groupby(['species', 'quarter', 'locality']).sum('count').reset_index()\n",
    "\n",
    "grouped_year_df = grouped_eventDate_df.groupby(['species', 'year', 'locality']).sum('count').reset_index()\n",
    "\n",
    "# print(grouped_weekOfYear_df[10:])\n",
    "# print(grouped_month_df[10:])\n",
    "# print(grouped_quarter_df[10:])\n",
    "# print(grouped_year_df[10:])"
   ]
  },
  {
   "cell_type": "code",
   "execution_count": 113,
   "metadata": {},
   "outputs": [
    {
     "name": "stderr",
     "output_type": "stream",
     "text": [
      "/var/folders/dx/9xjdddhn30jfw1p92r0hl5gh0000gn/T/ipykernel_8719/1018032544.py:2: SettingWithCopyWarning: \n",
      "A value is trying to be set on a copy of a slice from a DataFrame.\n",
      "Try using .loc[row_indexer,col_indexer] = value instead\n",
      "\n",
      "See the caveats in the documentation: https://pandas.pydata.org/pandas-docs/stable/user_guide/indexing.html#returning-a-view-versus-a-copy\n",
      "  locF['count'] = pd.to_numeric(locF['count'])\n"
     ]
    },
    {
     "data": {
      "image/png": "[encoded data removed]",
      "text/plain": [
       "<Figure size 1200x800 with 1 Axes>"
      ]
     },
     "metadata": {},
     "output_type": "display_data"
    }
   ],
   "source": [
    "\n",
    "locF=  grouped_year_df[(grouped_year_df['locality'] =='Castromocho')]\n",
    "locF['count'] = pd.to_numeric(locF['count'])\n",
    "\n",
    "plt.figure(figsize=(12, 8))\n",
    "sns.barplot(x='year', y='count', hue='species', data=locF)\n",
    "plt.title('Total Count per Year for Each Species in Castromocho')\n",
    "plt.xlabel('Year')\n",
    "plt.ylabel('Total Count')\n",
    "plt.show()\n"
   ]
  },
  {
   "cell_type": "code",
   "execution_count": 30,
   "metadata": {},
   "outputs": [
    {
     "data": {
      "text/plain": [
       "locality\n",
       "Canal vell                               1656\n",
       "Traibuenas                               1410\n",
       "Montiver                                 1364\n",
       "Manecorro                                1002\n",
       "Laguna de san juan                        972\n",
       "Parque el alamillo                        898\n",
       "P. NAT. EL HONDO                          872\n",
       "Estanys jorda                             857\n",
       "P. NAC. DEL ARCHIPIELAGO DE CABRERA       851\n",
       "Las minas                                 807\n",
       "Delta del llobregat                       785\n",
       "Sebes                                     765\n",
       "P. NAT. DESEMBOCADURA DEL GUADALHORCE     762\n",
       "RIVAS-VACIAMADRID                         684\n",
       "Name: count, dtype: int64"
      ]
     },
     "execution_count": 30,
     "metadata": {},
     "output_type": "execute_result"
    }
   ],
   "source": [
    "# Explor the data grouped by week for chiff chaffs\n",
    "chiffChaffWeek=  grouped_weekOfYear_df[(grouped_weekOfYear_df['species'] =='Phylloscopus collybita')]\n",
    "\n",
    "canalVell =  chiffChaffWeek[(chiffChaffWeek['locality'] ==\"Canal vell\")]\n",
    "\n",
    "# View the locations where there are more than 600 entries\n",
    "locals =chiffChaffWeek['locality'].value_counts()\n",
    "filtered_locals = locals[locals > 600]\n",
    "filtered_locals\n",
    "\n"
   ]
  },
  {
   "cell_type": "code",
   "execution_count": 25,
   "metadata": {},
   "outputs": [],
   "source": [
    "# Checking locality vs coordinates\n",
    "# filtered_df = df[df['locality'].isin(['Localidad confidencial'])]\n",
    "# print(filtered_df.filter(items=['locality', 'decimalLatitude','decimalLongitude', 'species', 'eventDate']))\n",
    "# It looks like all of the coordinates of the same locality match"
   ]
  },
  {
   "cell_type": "code",
   "execution_count": 28,
   "metadata": {},
   "outputs": [
    {
     "name": "stderr",
     "output_type": "stream",
     "text": [
      "/Users/daniellemckenney/Programming/erasmusCourses/ML/mlProjectsBirbs/.venv/lib/python3.11/site-packages/IPython/core/interactiveshell.py:3493: FutureWarning: The `op` parameter is deprecated and will be removed in a future release. Please use the `predicate` parameter instead.\n",
      "  if await self.run_code(code, result, async_=asy):\n",
      "/var/folders/dx/9xjdddhn30jfw1p92r0hl5gh0000gn/T/ipykernel_8719/3420082598.py:7: UserWarning: CRS mismatch between the CRS of left geometries and the CRS of right geometries.\n",
      "Use `to_crs()` to reproject one of the input geometries to match the CRS of the other.\n",
      "\n",
      "Left CRS: EPSG:4326\n",
      "Right CRS: None\n",
      "\n",
      "  species_spain = gpd.sjoin(gdf, spain, how='inner', op='within')\n"
     ]
    },
    {
     "ename": "KeyError",
     "evalue": "'NAME'",
     "output_type": "error",
     "traceback": [
      "\u001b[0;31m---------------------------------------------------------------------------\u001b[0m",
      "\u001b[0;31mKeyError\u001b[0m                                  Traceback (most recent call last)",
      "Cell \u001b[0;32mIn[28], line 8\u001b[0m\n\u001b[1;32m      6\u001b[0m spain \u001b[38;5;241m=\u001b[39m gpd\u001b[38;5;241m.\u001b[39mread_file(\u001b[38;5;124m'\u001b[39m\u001b[38;5;124m/Users/daniellemckenney/Programming/erasmusCourses/ML/mlProjectsBirbs/mlProjectBirds/shapefile.shp\u001b[39m\u001b[38;5;124m'\u001b[39m)\n\u001b[1;32m      7\u001b[0m species_spain \u001b[38;5;241m=\u001b[39m gpd\u001b[38;5;241m.\u001b[39msjoin(gdf, spain, how\u001b[38;5;241m=\u001b[39m\u001b[38;5;124m'\u001b[39m\u001b[38;5;124minner\u001b[39m\u001b[38;5;124m'\u001b[39m, op\u001b[38;5;241m=\u001b[39m\u001b[38;5;124m'\u001b[39m\u001b[38;5;124mwithin\u001b[39m\u001b[38;5;124m'\u001b[39m)\n\u001b[0;32m----> 8\u001b[0m heatmap_data \u001b[38;5;241m=\u001b[39m \u001b[43mspecies_spain\u001b[49m\u001b[38;5;241;43m.\u001b[39;49m\u001b[43mgroupby\u001b[49m\u001b[43m(\u001b[49m\u001b[43m[\u001b[49m\u001b[38;5;124;43m'\u001b[39;49m\u001b[38;5;124;43mspecies\u001b[39;49m\u001b[38;5;124;43m'\u001b[39;49m\u001b[43m,\u001b[49m\u001b[43m \u001b[49m\u001b[38;5;124;43m'\u001b[39;49m\u001b[38;5;124;43mNAME\u001b[39;49m\u001b[38;5;124;43m'\u001b[39;49m\u001b[43m]\u001b[49m\u001b[43m)\u001b[49m\u001b[38;5;241m.\u001b[39msize()\u001b[38;5;241m.\u001b[39munstack(fill_value\u001b[38;5;241m=\u001b[39m\u001b[38;5;241m0\u001b[39m)\n\u001b[1;32m      9\u001b[0m fig, ax \u001b[38;5;241m=\u001b[39m plt\u001b[38;5;241m.\u001b[39msubplots(figsize\u001b[38;5;241m=\u001b[39m(\u001b[38;5;241m12\u001b[39m, \u001b[38;5;241m8\u001b[39m))\n\u001b[1;32m     10\u001b[0m heatmap_data\u001b[38;5;241m.\u001b[39mplot(kind\u001b[38;5;241m=\u001b[39m\u001b[38;5;124m'\u001b[39m\u001b[38;5;124mbar\u001b[39m\u001b[38;5;124m'\u001b[39m, stacked\u001b[38;5;241m=\u001b[39m\u001b[38;5;28;01mTrue\u001b[39;00m, ax\u001b[38;5;241m=\u001b[39max)\n",
      "File \u001b[0;32m~/Programming/erasmusCourses/ML/mlProjectsBirbs/.venv/lib/python3.11/site-packages/pandas/core/frame.py:8869\u001b[0m, in \u001b[0;36mDataFrame.groupby\u001b[0;34m(self, by, axis, level, as_index, sort, group_keys, observed, dropna)\u001b[0m\n\u001b[1;32m   8866\u001b[0m \u001b[38;5;28;01mif\u001b[39;00m level \u001b[38;5;129;01mis\u001b[39;00m \u001b[38;5;28;01mNone\u001b[39;00m \u001b[38;5;129;01mand\u001b[39;00m by \u001b[38;5;129;01mis\u001b[39;00m \u001b[38;5;28;01mNone\u001b[39;00m:\n\u001b[1;32m   8867\u001b[0m     \u001b[38;5;28;01mraise\u001b[39;00m \u001b[38;5;167;01mTypeError\u001b[39;00m(\u001b[38;5;124m\"\u001b[39m\u001b[38;5;124mYou have to supply one of \u001b[39m\u001b[38;5;124m'\u001b[39m\u001b[38;5;124mby\u001b[39m\u001b[38;5;124m'\u001b[39m\u001b[38;5;124m and \u001b[39m\u001b[38;5;124m'\u001b[39m\u001b[38;5;124mlevel\u001b[39m\u001b[38;5;124m'\u001b[39m\u001b[38;5;124m\"\u001b[39m)\n\u001b[0;32m-> 8869\u001b[0m \u001b[38;5;28;01mreturn\u001b[39;00m \u001b[43mDataFrameGroupBy\u001b[49m\u001b[43m(\u001b[49m\n\u001b[1;32m   8870\u001b[0m \u001b[43m    \u001b[49m\u001b[43mobj\u001b[49m\u001b[38;5;241;43m=\u001b[39;49m\u001b[38;5;28;43mself\u001b[39;49m\u001b[43m,\u001b[49m\n\u001b[1;32m   8871\u001b[0m \u001b[43m    \u001b[49m\u001b[43mkeys\u001b[49m\u001b[38;5;241;43m=\u001b[39;49m\u001b[43mby\u001b[49m\u001b[43m,\u001b[49m\n\u001b[1;32m   8872\u001b[0m \u001b[43m    \u001b[49m\u001b[43maxis\u001b[49m\u001b[38;5;241;43m=\u001b[39;49m\u001b[43maxis\u001b[49m\u001b[43m,\u001b[49m\n\u001b[1;32m   8873\u001b[0m \u001b[43m    \u001b[49m\u001b[43mlevel\u001b[49m\u001b[38;5;241;43m=\u001b[39;49m\u001b[43mlevel\u001b[49m\u001b[43m,\u001b[49m\n\u001b[1;32m   8874\u001b[0m \u001b[43m    \u001b[49m\u001b[43mas_index\u001b[49m\u001b[38;5;241;43m=\u001b[39;49m\u001b[43mas_index\u001b[49m\u001b[43m,\u001b[49m\n\u001b[1;32m   8875\u001b[0m \u001b[43m    \u001b[49m\u001b[43msort\u001b[49m\u001b[38;5;241;43m=\u001b[39;49m\u001b[43msort\u001b[49m\u001b[43m,\u001b[49m\n\u001b[1;32m   8876\u001b[0m \u001b[43m    \u001b[49m\u001b[43mgroup_keys\u001b[49m\u001b[38;5;241;43m=\u001b[39;49m\u001b[43mgroup_keys\u001b[49m\u001b[43m,\u001b[49m\n\u001b[1;32m   8877\u001b[0m \u001b[43m    \u001b[49m\u001b[43mobserved\u001b[49m\u001b[38;5;241;43m=\u001b[39;49m\u001b[43mobserved\u001b[49m\u001b[43m,\u001b[49m\n\u001b[1;32m   8878\u001b[0m \u001b[43m    \u001b[49m\u001b[43mdropna\u001b[49m\u001b[38;5;241;43m=\u001b[39;49m\u001b[43mdropna\u001b[49m\u001b[43m,\u001b[49m\n\u001b[1;32m   8879\u001b[0m \u001b[43m\u001b[49m\u001b[43m)\u001b[49m\n",
      "File \u001b[0;32m~/Programming/erasmusCourses/ML/mlProjectsBirbs/.venv/lib/python3.11/site-packages/pandas/core/groupby/groupby.py:1278\u001b[0m, in \u001b[0;36mGroupBy.__init__\u001b[0;34m(self, obj, keys, axis, level, grouper, exclusions, selection, as_index, sort, group_keys, observed, dropna)\u001b[0m\n\u001b[1;32m   1275\u001b[0m \u001b[38;5;28mself\u001b[39m\u001b[38;5;241m.\u001b[39mdropna \u001b[38;5;241m=\u001b[39m dropna\n\u001b[1;32m   1277\u001b[0m \u001b[38;5;28;01mif\u001b[39;00m grouper \u001b[38;5;129;01mis\u001b[39;00m \u001b[38;5;28;01mNone\u001b[39;00m:\n\u001b[0;32m-> 1278\u001b[0m     grouper, exclusions, obj \u001b[38;5;241m=\u001b[39m \u001b[43mget_grouper\u001b[49m\u001b[43m(\u001b[49m\n\u001b[1;32m   1279\u001b[0m \u001b[43m        \u001b[49m\u001b[43mobj\u001b[49m\u001b[43m,\u001b[49m\n\u001b[1;32m   1280\u001b[0m \u001b[43m        \u001b[49m\u001b[43mkeys\u001b[49m\u001b[43m,\u001b[49m\n\u001b[1;32m   1281\u001b[0m \u001b[43m        \u001b[49m\u001b[43maxis\u001b[49m\u001b[38;5;241;43m=\u001b[39;49m\u001b[43maxis\u001b[49m\u001b[43m,\u001b[49m\n\u001b[1;32m   1282\u001b[0m \u001b[43m        \u001b[49m\u001b[43mlevel\u001b[49m\u001b[38;5;241;43m=\u001b[39;49m\u001b[43mlevel\u001b[49m\u001b[43m,\u001b[49m\n\u001b[1;32m   1283\u001b[0m \u001b[43m        \u001b[49m\u001b[43msort\u001b[49m\u001b[38;5;241;43m=\u001b[39;49m\u001b[43msort\u001b[49m\u001b[43m,\u001b[49m\n\u001b[1;32m   1284\u001b[0m \u001b[43m        \u001b[49m\u001b[43mobserved\u001b[49m\u001b[38;5;241;43m=\u001b[39;49m\u001b[38;5;28;43;01mFalse\u001b[39;49;00m\u001b[43m \u001b[49m\u001b[38;5;28;43;01mif\u001b[39;49;00m\u001b[43m \u001b[49m\u001b[43mobserved\u001b[49m\u001b[43m \u001b[49m\u001b[38;5;129;43;01mis\u001b[39;49;00m\u001b[43m \u001b[49m\u001b[43mlib\u001b[49m\u001b[38;5;241;43m.\u001b[39;49m\u001b[43mno_default\u001b[49m\u001b[43m \u001b[49m\u001b[38;5;28;43;01melse\u001b[39;49;00m\u001b[43m \u001b[49m\u001b[43mobserved\u001b[49m\u001b[43m,\u001b[49m\n\u001b[1;32m   1285\u001b[0m \u001b[43m        \u001b[49m\u001b[43mdropna\u001b[49m\u001b[38;5;241;43m=\u001b[39;49m\u001b[38;5;28;43mself\u001b[39;49m\u001b[38;5;241;43m.\u001b[39;49m\u001b[43mdropna\u001b[49m\u001b[43m,\u001b[49m\n\u001b[1;32m   1286\u001b[0m \u001b[43m    \u001b[49m\u001b[43m)\u001b[49m\n\u001b[1;32m   1288\u001b[0m \u001b[38;5;28;01mif\u001b[39;00m observed \u001b[38;5;129;01mis\u001b[39;00m lib\u001b[38;5;241m.\u001b[39mno_default:\n\u001b[1;32m   1289\u001b[0m     \u001b[38;5;28;01mif\u001b[39;00m \u001b[38;5;28many\u001b[39m(ping\u001b[38;5;241m.\u001b[39m_passed_categorical \u001b[38;5;28;01mfor\u001b[39;00m ping \u001b[38;5;129;01min\u001b[39;00m grouper\u001b[38;5;241m.\u001b[39mgroupings):\n",
      "File \u001b[0;32m~/Programming/erasmusCourses/ML/mlProjectsBirbs/.venv/lib/python3.11/site-packages/pandas/core/groupby/grouper.py:1009\u001b[0m, in \u001b[0;36mget_grouper\u001b[0;34m(obj, key, axis, level, sort, observed, validate, dropna)\u001b[0m\n\u001b[1;32m   1007\u001b[0m         in_axis, level, gpr \u001b[38;5;241m=\u001b[39m \u001b[38;5;28;01mFalse\u001b[39;00m, gpr, \u001b[38;5;28;01mNone\u001b[39;00m\n\u001b[1;32m   1008\u001b[0m     \u001b[38;5;28;01melse\u001b[39;00m:\n\u001b[0;32m-> 1009\u001b[0m         \u001b[38;5;28;01mraise\u001b[39;00m \u001b[38;5;167;01mKeyError\u001b[39;00m(gpr)\n\u001b[1;32m   1010\u001b[0m \u001b[38;5;28;01melif\u001b[39;00m \u001b[38;5;28misinstance\u001b[39m(gpr, Grouper) \u001b[38;5;129;01mand\u001b[39;00m gpr\u001b[38;5;241m.\u001b[39mkey \u001b[38;5;129;01mis\u001b[39;00m \u001b[38;5;129;01mnot\u001b[39;00m \u001b[38;5;28;01mNone\u001b[39;00m:\n\u001b[1;32m   1011\u001b[0m     \u001b[38;5;66;03m# Add key to exclusions\u001b[39;00m\n\u001b[1;32m   1012\u001b[0m     exclusions\u001b[38;5;241m.\u001b[39madd(gpr\u001b[38;5;241m.\u001b[39mkey)\n",
      "\u001b[0;31mKeyError\u001b[0m: 'NAME'"
     ]
    }
   ],
   "source": [
    "# Heatmap\n",
    "gdf = gpd.GeoDataFrame(df, \n",
    "                       geometry=gpd.points_from_xy(df['decimalLongitude'], df['decimalLatitude']),\n",
    "                       crs='EPSG:4326')  # Assuming WGS 84 coordinate reference system\n",
    "\n",
    "spain = gpd.read_file('/Users/daniellemckenney/Programming/erasmusCourses/ML/mlProjectsBirbs/mlProjectBirds/shapefile.shp')\n",
    "species_spain = gpd.sjoin(gdf, spain, how='inner', op='within')\n",
    "heatmap_data = species_spain.groupby(['species', 'NAME']).size().unstack(fill_value=0)\n",
    "fig, ax = plt.subplots(figsize=(12, 8))\n",
    "heatmap_data.plot(kind='bar', stacked=True, ax=ax)\n",
    "plt.title('Species Distribution in Spain')\n",
    "plt.xlabel('Species')\n",
    "plt.ylabel('Frequency')\n",
    "plt.show()\n",
    "\n"
   ]
  }
 ],
 "metadata": {
  "kernelspec": {
   "display_name": ".venv",
   "language": "python",
   "name": "python3"
  },
  "language_info": {
   "codemirror_mode": {
    "name": "ipython",
    "version": 3
   },
   "file_extension": ".py",
   "mimetype": "text/x-python",
   "name": "python",
   "nbconvert_exporter": "python",
   "pygments_lexer": "ipython3",
   "version": "3.11.6"
  }
 },
 "nbformat": 4,
 "nbformat_minor": 2
}
